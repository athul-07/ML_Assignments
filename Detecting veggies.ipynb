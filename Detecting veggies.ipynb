{
 "cells": [
  {
   "cell_type": "code",
   "execution_count": 1,
   "id": "2633022e-521e-4a03-92c9-4a541c9adbcd",
   "metadata": {},
   "outputs": [],
   "source": [
    "from keras.models import load_model\n",
    "import cv2\n",
    "import numpy as np"
   ]
  },
  {
   "cell_type": "code",
   "execution_count": 6,
   "id": "1cb5081d-79c3-4645-a4ac-e704a2cd296f",
   "metadata": {},
   "outputs": [],
   "source": [
    "model = load_model('model-017.model')\n",
    "\n",
    "face_clsfr = cv2.CascadeClassifier('haarcascade_frontalface_default.xml')\n",
    "\n",
    "source = cv2.VideoCapture(0)\n",
    "\n",
    "labels_dict = {0: 'Cabbage', 1: 'Capsicum', 2: 'Carrot', 3: 'Cauliflower'}\n",
    "color_dict = {0: (0, 255, 0), 1: (0, 0, 255),2: (255, 0, 0),3: (0, 255, 255)}"
   ]
  },
  {
   "cell_type": "code",
   "execution_count": 8,
   "id": "a1dae5fb-1ddc-4f33-a955-fd291c3a9d6a",
   "metadata": {},
   "outputs": [
    {
     "ename": "error",
     "evalue": "OpenCV(4.8.1) D:\\a\\opencv-python\\opencv-python\\opencv\\modules\\imgproc\\src\\color.cpp:182: error: (-215:Assertion failed) !_src.empty() in function 'cv::cvtColor'\n",
     "output_type": "error",
     "traceback": [
      "\u001b[1;31m---------------------------------------------------------------------------\u001b[0m",
      "\u001b[1;31merror\u001b[0m                                     Traceback (most recent call last)",
      "Cell \u001b[1;32mIn[8], line 20\u001b[0m\n\u001b[0;32m     18\u001b[0m \u001b[38;5;28;01mwhile\u001b[39;00m \u001b[38;5;28;01mTrue\u001b[39;00m:\n\u001b[0;32m     19\u001b[0m     ret, img \u001b[38;5;241m=\u001b[39m source\u001b[38;5;241m.\u001b[39mread()\n\u001b[1;32m---> 20\u001b[0m     gray \u001b[38;5;241m=\u001b[39m \u001b[43mcv2\u001b[49m\u001b[38;5;241;43m.\u001b[39;49m\u001b[43mcvtColor\u001b[49m\u001b[43m(\u001b[49m\u001b[43mimg\u001b[49m\u001b[43m,\u001b[49m\u001b[43m \u001b[49m\u001b[43mcv2\u001b[49m\u001b[38;5;241;43m.\u001b[39;49m\u001b[43mCOLOR_BGR2GRAY\u001b[49m\u001b[43m)\u001b[49m\n\u001b[0;32m     22\u001b[0m     \u001b[38;5;66;03m# Detect vegetables using the pre-trained model\u001b[39;00m\n\u001b[0;32m     23\u001b[0m     faces \u001b[38;5;241m=\u001b[39m face_clsfr\u001b[38;5;241m.\u001b[39mdetectMultiScale(gray, \u001b[38;5;241m1.3\u001b[39m, \u001b[38;5;241m5\u001b[39m)\n",
      "\u001b[1;31merror\u001b[0m: OpenCV(4.8.1) D:\\a\\opencv-python\\opencv-python\\opencv\\modules\\imgproc\\src\\color.cpp:182: error: (-215:Assertion failed) !_src.empty() in function 'cv::cvtColor'\n"
     ]
    }
   ],
   "source": [
    "# Load the pre-trained vegetable detection model\n",
    "model = load_model('model-017.model')\n",
    "\n",
    "# Load the face cascade classifier for reference\n",
    "face_clsfr = cv2.CascadeClassifier('haarcascade_frontalface_default.xml')\n",
    "\n",
    "# Initialize the camera\n",
    "source = cv2.VideoCapture(0)\n",
    "\n",
    "# Define labels and colors for vegetables\n",
    "labels_dict = {\n",
    "    0: 'Cabbage', 1: 'Capsicum', 2: 'Carrot', 3: 'Cauliflower'}\n",
    "\n",
    "color_dict = {\n",
    "    0: (0, 255, 0), 1: (0, 0, 255), 2: (255, 0, 0),\n",
    "    3: (0, 255, 255)}\n",
    "\n",
    "while True:\n",
    "    ret, img = source.read()\n",
    "    gray = cv2.cvtColor(img, cv2.COLOR_BGR2GRAY)\n",
    "\n",
    "    # Detect vegetables using the pre-trained model\n",
    "    faces = face_clsfr.detectMultiScale(gray, 1.3, 5)\n",
    "\n",
    "    for x, y, w, h in faces:\n",
    "        veg_img = gray[y:y+w, x:x+w]\n",
    "        resized = cv2.resize(veg_img, (100, 100))\n",
    "        normalized = resized / 255.0\n",
    "        reshaped = np.reshape(normalized, (1, 100, 100, 1))\n",
    "        result = model.predict(reshaped)\n",
    "        label = np.argmax(result, axis=1)[0]\n",
    "\n",
    "        # Draw bounding boxes and labels for detected vegetables\n",
    "        cv2.rectangle(img, (x, y), (x+w, y+h), color_dict[label], 2)\n",
    "        cv2.rectangle(img, (x, y-40), (x+w, y), color_dict[label], -1)\n",
    "        cv2.putText(img, labels_dict[label], (x, y-10), cv2.FONT_HERSHEY_SIMPLEX, 0.8, (255, 255, 255), 2)\n",
    "\n",
    "    # Display the result\n",
    "    cv2.imshow('Vegetable Detection', img)\n",
    "    key = cv2.waitKey(1)\n",
    "\n",
    "    if key == 27:  # Press 'Esc' key to exit\n",
    "        break\n",
    "\n",
    "# Release the camera and close OpenCV windows\n",
    "source.release()\n",
    "cv2.destroyAllWindows()"
   ]
  },
  {
   "cell_type": "code",
   "execution_count": null,
   "id": "4092998e-4ddc-44d5-a2c0-9b2c18816e7f",
   "metadata": {},
   "outputs": [],
   "source": []
  }
 ],
 "metadata": {
  "kernelspec": {
   "display_name": "Python 3 (ipykernel)",
   "language": "python",
   "name": "python3"
  },
  "language_info": {
   "codemirror_mode": {
    "name": "ipython",
    "version": 3
   },
   "file_extension": ".py",
   "mimetype": "text/x-python",
   "name": "python",
   "nbconvert_exporter": "python",
   "pygments_lexer": "ipython3",
   "version": "3.8.0"
  }
 },
 "nbformat": 4,
 "nbformat_minor": 5
}
